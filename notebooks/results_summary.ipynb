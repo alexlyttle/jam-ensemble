{
 "cells": [
  {
   "cell_type": "markdown",
   "metadata": {},
   "source": [
    "# Analysis\n",
    "\n",
    "This notebook may be copied and used to analyse the output of jam-ensemble."
   ]
  },
  {
   "cell_type": "code",
   "execution_count": 1,
   "metadata": {},
   "outputs": [],
   "source": [
    "import os\n",
    "import numpy as np\n",
    "import pandas as pd\n",
    "import matplotlib.pyplot as plt"
   ]
  },
  {
   "cell_type": "code",
   "execution_count": 32,
   "metadata": {},
   "outputs": [],
   "source": [
    "path_to_logs = '../test/logs'\n",
    "path_to_save = '../test/results'\n",
    "\n",
    "if not os.path.isdir(path_to_save):\n",
    "    os.makedirs(path_to_save)"
   ]
  },
  {
   "cell_type": "code",
   "execution_count": 5,
   "metadata": {},
   "outputs": [
    {
     "data": {
      "text/plain": [
       "['../test/logs/KIC4448777']"
      ]
     },
     "execution_count": 5,
     "metadata": {},
     "output_type": "execute_result"
    }
   ],
   "source": [
    "target_dirs = [f.path for f in os.scandir(path_to_logs) if f.is_dir()]\n",
    "target_dirs"
   ]
  },
  {
   "cell_type": "code",
   "execution_count": 8,
   "metadata": {},
   "outputs": [
    {
     "data": {
      "text/plain": [
       "['KIC4448777']"
      ]
     },
     "execution_count": 8,
     "metadata": {},
     "output_type": "execute_result"
    }
   ],
   "source": [
    "target_ids = [f.name for f in os.scandir(path_to_logs) if f.is_dir()]\n",
    "target_ids"
   ]
  },
  {
   "cell_type": "markdown",
   "metadata": {},
   "source": [
    "## Asymptotic fit results"
   ]
  },
  {
   "cell_type": "code",
   "execution_count": 9,
   "metadata": {},
   "outputs": [],
   "source": [
    "statistics = ['mean', 'std', '16th', '50th', '84th']\n",
    "names = ['dnu', 'numax', 'eps', 'd02', 'alpha', 'env_height', 'env_width',\n",
    "        'mode_width', 'teff', 'bp_rp']\n",
    "cols = []\n",
    "log_cols = []\n",
    "for n in names:\n",
    "    for s in statistics:\n",
    "        log_cols.append('log_' + n + '_' + s)\n",
    "        cols.append(n + '_' + s)"
   ]
  },
  {
   "cell_type": "code",
   "execution_count": 12,
   "metadata": {},
   "outputs": [
    {
     "data": {
      "text/html": [
       "<div>\n",
       "<style scoped>\n",
       "    .dataframe tbody tr th:only-of-type {\n",
       "        vertical-align: middle;\n",
       "    }\n",
       "\n",
       "    .dataframe tbody tr th {\n",
       "        vertical-align: top;\n",
       "    }\n",
       "\n",
       "    .dataframe thead th {\n",
       "        text-align: right;\n",
       "    }\n",
       "</style>\n",
       "<table border=\"1\" class=\"dataframe\">\n",
       "  <thead>\n",
       "    <tr style=\"text-align: right;\">\n",
       "      <th></th>\n",
       "      <th>dnu_mean</th>\n",
       "      <th>dnu_std</th>\n",
       "      <th>dnu_16th</th>\n",
       "      <th>dnu_50th</th>\n",
       "      <th>dnu_84th</th>\n",
       "      <th>numax_mean</th>\n",
       "      <th>numax_std</th>\n",
       "      <th>numax_16th</th>\n",
       "      <th>numax_50th</th>\n",
       "      <th>numax_84th</th>\n",
       "      <th>...</th>\n",
       "      <th>log_teff_mean</th>\n",
       "      <th>log_teff_std</th>\n",
       "      <th>log_teff_16th</th>\n",
       "      <th>log_teff_50th</th>\n",
       "      <th>log_teff_84th</th>\n",
       "      <th>log_bp_rp_mean</th>\n",
       "      <th>log_bp_rp_std</th>\n",
       "      <th>log_bp_rp_16th</th>\n",
       "      <th>log_bp_rp_50th</th>\n",
       "      <th>log_bp_rp_84th</th>\n",
       "    </tr>\n",
       "  </thead>\n",
       "  <tbody>\n",
       "    <tr>\n",
       "      <td>KIC4448777</td>\n",
       "      <td>17.0115</td>\n",
       "      <td>0.0064659</td>\n",
       "      <td>17.005</td>\n",
       "      <td>17.0114</td>\n",
       "      <td>17.0179</td>\n",
       "      <td>221.8</td>\n",
       "      <td>0.63476</td>\n",
       "      <td>221.165</td>\n",
       "      <td>221.81</td>\n",
       "      <td>222.439</td>\n",
       "      <td>...</td>\n",
       "      <td>3.70026</td>\n",
       "      <td>0.00457021</td>\n",
       "      <td>3.6954</td>\n",
       "      <td>3.70124</td>\n",
       "      <td>3.70429</td>\n",
       "      <td>1.24126</td>\n",
       "      <td>0.0503817</td>\n",
       "      <td>1.19173</td>\n",
       "      <td>1.24259</td>\n",
       "      <td>1.29022</td>\n",
       "    </tr>\n",
       "  </tbody>\n",
       "</table>\n",
       "<p>1 rows × 100 columns</p>\n",
       "</div>"
      ],
      "text/plain": [
       "           dnu_mean    dnu_std dnu_16th dnu_50th dnu_84th numax_mean  \\\n",
       "KIC4448777  17.0115  0.0064659   17.005  17.0114  17.0179      221.8   \n",
       "\n",
       "           numax_std numax_16th numax_50th numax_84th  ... log_teff_mean  \\\n",
       "KIC4448777   0.63476    221.165     221.81    222.439  ...       3.70026   \n",
       "\n",
       "           log_teff_std log_teff_16th log_teff_50th log_teff_84th  \\\n",
       "KIC4448777   0.00457021        3.6954       3.70124       3.70429   \n",
       "\n",
       "           log_bp_rp_mean log_bp_rp_std log_bp_rp_16th log_bp_rp_50th  \\\n",
       "KIC4448777        1.24126     0.0503817        1.19173        1.24259   \n",
       "\n",
       "           log_bp_rp_84th  \n",
       "KIC4448777        1.29022  \n",
       "\n",
       "[1 rows x 100 columns]"
      ]
     },
     "execution_count": 12,
     "metadata": {},
     "output_type": "execute_result"
    }
   ],
   "source": [
    "# row = 0\n",
    "asy_results = pd.DataFrame(columns=cols+log_cols, index=target_ids)\n",
    "\n",
    "for target_dir, target_id in zip(target_dirs, target_ids):\n",
    "\n",
    "    path = os.path.join(target_dir, f'asy_fit_summary_{target_id}.csv')        \n",
    "    try:\n",
    "        asy_results_temp = pd.read_csv(path)\n",
    "    except FileNotFoundError:\n",
    "        print(f'File not found at {path}, no results for this target.')\n",
    "        continue\n",
    "\n",
    "    # asy_results.at[row, 'target_id'] = target_id\n",
    "\n",
    "    data = []\n",
    "    log_data = []\n",
    "    for s in statistics:\n",
    "        if s == 'std':\n",
    "            log_data.append(asy_results_temp[s].values)  # Log\n",
    "            data.append(asy_results_temp[s].values * 10**asy_results_temp['mean'].values * np.log(10))  # Base-10\n",
    "        else:\n",
    "            log_data.append(asy_results_temp[s].values)  # Log\n",
    "            data.append(10**asy_results_temp[s].values)  # Base-10\n",
    "    data = np.array(data).flatten('F')\n",
    "    log_data = np.array(log_data).flatten('F')\n",
    "    data = np.append(data, log_data)\n",
    "    # print(data)\n",
    "    asy_results.loc[target_id] = data  # Add data to dataframe\n",
    "\n",
    "    # row += 1\n",
    "\n",
    "asy_results.head()"
   ]
  },
  {
   "cell_type": "code",
   "execution_count": 16,
   "metadata": {},
   "outputs": [
    {
     "data": {
      "text/html": [
       "<div>\n",
       "<style scoped>\n",
       "    .dataframe tbody tr th:only-of-type {\n",
       "        vertical-align: middle;\n",
       "    }\n",
       "\n",
       "    .dataframe tbody tr th {\n",
       "        vertical-align: top;\n",
       "    }\n",
       "\n",
       "    .dataframe thead th {\n",
       "        text-align: right;\n",
       "    }\n",
       "</style>\n",
       "<table border=\"1\" class=\"dataframe\">\n",
       "  <thead>\n",
       "    <tr style=\"text-align: right;\">\n",
       "      <th></th>\n",
       "      <th>dnu_mean</th>\n",
       "      <th>dnu_std</th>\n",
       "      <th>dnu_16th</th>\n",
       "      <th>dnu_50th</th>\n",
       "      <th>dnu_84th</th>\n",
       "      <th>numax_mean</th>\n",
       "      <th>numax_std</th>\n",
       "      <th>numax_16th</th>\n",
       "      <th>numax_50th</th>\n",
       "      <th>numax_84th</th>\n",
       "      <th>...</th>\n",
       "      <th>log_mode_width_mean</th>\n",
       "      <th>log_mode_width_std</th>\n",
       "      <th>log_mode_width_16th</th>\n",
       "      <th>log_mode_width_50th</th>\n",
       "      <th>log_mode_width_84th</th>\n",
       "      <th>log_teff_mean</th>\n",
       "      <th>log_teff_std</th>\n",
       "      <th>log_teff_16th</th>\n",
       "      <th>log_teff_50th</th>\n",
       "      <th>log_teff_84th</th>\n",
       "    </tr>\n",
       "  </thead>\n",
       "  <tbody>\n",
       "    <tr>\n",
       "      <td>KIC4448777</td>\n",
       "      <td>17.0115</td>\n",
       "      <td>0.0064659</td>\n",
       "      <td>17.005</td>\n",
       "      <td>17.0114</td>\n",
       "      <td>17.0179</td>\n",
       "      <td>221.8</td>\n",
       "      <td>0.63476</td>\n",
       "      <td>221.165</td>\n",
       "      <td>221.81</td>\n",
       "      <td>222.439</td>\n",
       "      <td>...</td>\n",
       "      <td>-0.661531</td>\n",
       "      <td>0.0222031</td>\n",
       "      <td>-0.683298</td>\n",
       "      <td>-0.661921</td>\n",
       "      <td>-0.639101</td>\n",
       "      <td>3.70026</td>\n",
       "      <td>0.00457021</td>\n",
       "      <td>3.6954</td>\n",
       "      <td>3.70124</td>\n",
       "      <td>3.70429</td>\n",
       "    </tr>\n",
       "  </tbody>\n",
       "</table>\n",
       "<p>1 rows × 90 columns</p>\n",
       "</div>"
      ],
      "text/plain": [
       "           dnu_mean    dnu_std dnu_16th dnu_50th dnu_84th numax_mean  \\\n",
       "KIC4448777  17.0115  0.0064659   17.005  17.0114  17.0179      221.8   \n",
       "\n",
       "           numax_std numax_16th numax_50th numax_84th  ...  \\\n",
       "KIC4448777   0.63476    221.165     221.81    222.439  ...   \n",
       "\n",
       "           log_mode_width_mean log_mode_width_std log_mode_width_16th  \\\n",
       "KIC4448777           -0.661531          0.0222031           -0.683298   \n",
       "\n",
       "           log_mode_width_50th log_mode_width_84th log_teff_mean log_teff_std  \\\n",
       "KIC4448777           -0.661921           -0.639101       3.70026   0.00457021   \n",
       "\n",
       "           log_teff_16th log_teff_50th log_teff_84th  \n",
       "KIC4448777        3.6954       3.70124       3.70429  \n",
       "\n",
       "[1 rows x 90 columns]"
      ]
     },
     "execution_count": 16,
     "metadata": {},
     "output_type": "execute_result"
    }
   ],
   "source": [
    "not_log = ['bp_rp', 'eps']\n",
    "\n",
    "for n in not_log:\n",
    "    for s in statistics:\n",
    "        asy_results['_'.join([n, s])] = asy_results['_'.join(['log', n, s])]\n",
    "        asy_results.drop(columns='_'.join(['log', n, s]), inplace=True)\n",
    "\n",
    "asy_results.head()"
   ]
  },
  {
   "cell_type": "code",
   "execution_count": 20,
   "metadata": {},
   "outputs": [],
   "source": [
    "asy_results = asy_results.astype(np.float64)"
   ]
  },
  {
   "cell_type": "code",
   "execution_count": 58,
   "metadata": {},
   "outputs": [],
   "source": [
    "asy_results.to_csv(os.path.join(path_to_save, 'asy_summary.csv'), index=False)"
   ]
  },
  {
   "cell_type": "code",
   "execution_count": 34,
   "metadata": {},
   "outputs": [
    {
     "data": {
      "text/plain": [
       "<matplotlib.axes._subplots.AxesSubplot at 0x1155ef690>"
      ]
     },
     "execution_count": 34,
     "metadata": {},
     "output_type": "execute_result"
    },
    {
     "data": {
      "image/png": "[encoded data removed]",
      "text/plain": [
       "<Figure size 864x576 with 1 Axes>"
      ]
     },
     "metadata": {
      "needs_background": "light"
     },
     "output_type": "display_data"
    }
   ],
   "source": [
    "fig, ax = plt.subplots(figsize=(12, 8))\n",
    "\n",
    "asy_results.plot(ax=ax, kind='scatter', x='dnu_mean', y='numax_mean',\n",
    "                xerr='dnu_std', yerr='numax_std')"
   ]
  },
  {
   "cell_type": "markdown",
   "metadata": {},
   "source": [
    "## Peakbagging results"
   ]
  },
  {
   "cell_type": "code",
   "execution_count": 106,
   "metadata": {},
   "outputs": [],
   "source": [
    "def flag_uninformative_data(data, idx, acceptance=0.95, f_sd=0.03):\n",
    "    ''' Flag uninformative data. This is given by results for which the \n",
    "    standard deviation over the prior standard deviation is above the \n",
    "    acceptance fraction (default is 95%). The prior standard deviation\n",
    "    is f_sd (default is 0.03) multiplied by delta_nu.'''\n",
    "    dnu = asy_results.loc[idx, 'dnu_mean']\n",
    "    prior_sd = f_sd * dnu\n",
    "    data['nu_sd_over_prior_sd'] = data['sd'] / prior_sd\n",
    "    data['uninformative_data'] = (data['nu_sd_over_prior_sd'] > acceptance).astype(int)"
   ]
  },
  {
   "cell_type": "code",
   "execution_count": 107,
   "metadata": {},
   "outputs": [],
   "source": [
    "save_paths = []\n",
    "no_peakbag = []\n",
    "\n",
    "statistics = ['mean', 'sd']\n",
    "cols_to_save = ['l'] + [f'nu_{s}' for s in statistics] + ['nu_sd_over_prior_sd', 'uninformative_data']\n",
    "save = lambda x: f'{x}_peakbag.csv'"
   ]
  },
  {
   "cell_type": "code",
   "execution_count": 108,
   "metadata": {},
   "outputs": [],
   "source": [
    "all_results = {}\n",
    "\n",
    "for target_dir, target_id in zip(target_dirs, target_ids):\n",
    "\n",
    "    path = os.path.join(target_dir, f'peakbag_summary_{target_id}.csv')\n",
    "    \n",
    "    try:\n",
    "        df_temp = pd.read_csv(path, index_col=0)\n",
    "    except FileNotFoundError:\n",
    "        print(f'File not found at {path}, no peakbag results for this target.')\n",
    "        no_peakbag.append(target_ids)\n",
    "        continue\n",
    "\n",
    "    df = df_temp.loc[df_temp.index.str.startswith('l'), statistics]\n",
    "    df['l'] = df.index.str.slice(1, 2)\n",
    "    flag_uninformative_data(df, target_id)\n",
    "\n",
    "    save_path = os.path.join(path_to_save, save(target_id))\n",
    "    \n",
    "    df = df.rename(columns={s: f'nu_{s}' for s in statistics})\n",
    "    \n",
    "    all_results[target_id] = df[cols_to_save] \n",
    "    df[cols_to_save].to_csv(save_path, index=False)\n"
   ]
  },
  {
   "cell_type": "code",
   "execution_count": 109,
   "metadata": {},
   "outputs": [
    {
     "data": {
      "text/html": [
       "<div>\n",
       "<style scoped>\n",
       "    .dataframe tbody tr th:only-of-type {\n",
       "        vertical-align: middle;\n",
       "    }\n",
       "\n",
       "    .dataframe tbody tr th {\n",
       "        vertical-align: top;\n",
       "    }\n",
       "\n",
       "    .dataframe thead th {\n",
       "        text-align: right;\n",
       "    }\n",
       "</style>\n",
       "<table border=\"1\" class=\"dataframe\">\n",
       "  <thead>\n",
       "    <tr style=\"text-align: right;\">\n",
       "      <th></th>\n",
       "      <th></th>\n",
       "      <th>l</th>\n",
       "      <th>nu_mean</th>\n",
       "      <th>nu_sd</th>\n",
       "      <th>nu_sd_over_prior_sd</th>\n",
       "      <th>uninformative_data</th>\n",
       "    </tr>\n",
       "    <tr>\n",
       "      <th>id</th>\n",
       "      <th>name</th>\n",
       "      <th></th>\n",
       "      <th></th>\n",
       "      <th></th>\n",
       "      <th></th>\n",
       "      <th></th>\n",
       "    </tr>\n",
       "  </thead>\n",
       "  <tbody>\n",
       "    <tr>\n",
       "      <td rowspan=\"5\" valign=\"top\">KIC4448777</td>\n",
       "      <td>l0__0</td>\n",
       "      <td>0</td>\n",
       "      <td>143.085589</td>\n",
       "      <td>0.518117</td>\n",
       "      <td>1.015229</td>\n",
       "      <td>1</td>\n",
       "    </tr>\n",
       "    <tr>\n",
       "      <td>l0__1</td>\n",
       "      <td>0</td>\n",
       "      <td>159.838651</td>\n",
       "      <td>0.028390</td>\n",
       "      <td>0.055628</td>\n",
       "      <td>0</td>\n",
       "    </tr>\n",
       "    <tr>\n",
       "      <td>l0__2</td>\n",
       "      <td>0</td>\n",
       "      <td>176.269217</td>\n",
       "      <td>0.019016</td>\n",
       "      <td>0.037262</td>\n",
       "      <td>0</td>\n",
       "    </tr>\n",
       "    <tr>\n",
       "      <td>l0__3</td>\n",
       "      <td>0</td>\n",
       "      <td>192.920943</td>\n",
       "      <td>0.015622</td>\n",
       "      <td>0.030611</td>\n",
       "      <td>0</td>\n",
       "    </tr>\n",
       "    <tr>\n",
       "      <td>l0__4</td>\n",
       "      <td>0</td>\n",
       "      <td>209.924645</td>\n",
       "      <td>0.008639</td>\n",
       "      <td>0.016927</td>\n",
       "      <td>0</td>\n",
       "    </tr>\n",
       "  </tbody>\n",
       "</table>\n",
       "</div>"
      ],
      "text/plain": [
       "                  l     nu_mean     nu_sd  nu_sd_over_prior_sd  \\\n",
       "id         name                                                  \n",
       "KIC4448777 l0__0  0  143.085589  0.518117             1.015229   \n",
       "           l0__1  0  159.838651  0.028390             0.055628   \n",
       "           l0__2  0  176.269217  0.019016             0.037262   \n",
       "           l0__3  0  192.920943  0.015622             0.030611   \n",
       "           l0__4  0  209.924645  0.008639             0.016927   \n",
       "\n",
       "                  uninformative_data  \n",
       "id         name                       \n",
       "KIC4448777 l0__0                   1  \n",
       "           l0__1                   0  \n",
       "           l0__2                   0  \n",
       "           l0__3                   0  \n",
       "           l0__4                   0  "
      ]
     },
     "execution_count": 109,
     "metadata": {},
     "output_type": "execute_result"
    }
   ],
   "source": [
    "peakbag_results = pd.concat(all_results)\n",
    "peakbag_results.index = peakbag_results.index.rename('id', level=0)\n",
    "peakbag_results.head()"
   ]
  },
  {
   "cell_type": "code",
   "execution_count": 110,
   "metadata": {},
   "outputs": [
    {
     "data": {
      "text/html": [
       "<div>\n",
       "<style scoped>\n",
       "    .dataframe tbody tr th:only-of-type {\n",
       "        vertical-align: middle;\n",
       "    }\n",
       "\n",
       "    .dataframe tbody tr th {\n",
       "        vertical-align: top;\n",
       "    }\n",
       "\n",
       "    .dataframe thead th {\n",
       "        text-align: right;\n",
       "    }\n",
       "</style>\n",
       "<table border=\"1\" class=\"dataframe\">\n",
       "  <thead>\n",
       "    <tr style=\"text-align: right;\">\n",
       "      <th></th>\n",
       "      <th>id</th>\n",
       "      <th>name</th>\n",
       "      <th>l</th>\n",
       "      <th>nu_mean</th>\n",
       "      <th>nu_sd</th>\n",
       "      <th>nu_sd_over_prior_sd</th>\n",
       "      <th>uninformative_data</th>\n",
       "      <th>dnu_mean</th>\n",
       "      <th>dnu_std</th>\n",
       "      <th>dnu_16th</th>\n",
       "      <th>...</th>\n",
       "      <th>log_mode_width_mean</th>\n",
       "      <th>log_mode_width_std</th>\n",
       "      <th>log_mode_width_16th</th>\n",
       "      <th>log_mode_width_50th</th>\n",
       "      <th>log_mode_width_84th</th>\n",
       "      <th>log_teff_mean</th>\n",
       "      <th>log_teff_std</th>\n",
       "      <th>log_teff_16th</th>\n",
       "      <th>log_teff_50th</th>\n",
       "      <th>log_teff_84th</th>\n",
       "    </tr>\n",
       "  </thead>\n",
       "  <tbody>\n",
       "    <tr>\n",
       "      <td>0</td>\n",
       "      <td>KIC4448777</td>\n",
       "      <td>l0__0</td>\n",
       "      <td>0</td>\n",
       "      <td>143.085589</td>\n",
       "      <td>0.518117</td>\n",
       "      <td>1.015229</td>\n",
       "      <td>1</td>\n",
       "      <td>17.011504</td>\n",
       "      <td>0.006466</td>\n",
       "      <td>17.005005</td>\n",
       "      <td>...</td>\n",
       "      <td>-0.661531</td>\n",
       "      <td>0.022203</td>\n",
       "      <td>-0.683298</td>\n",
       "      <td>-0.661921</td>\n",
       "      <td>-0.639101</td>\n",
       "      <td>3.700264</td>\n",
       "      <td>0.00457</td>\n",
       "      <td>3.6954</td>\n",
       "      <td>3.701239</td>\n",
       "      <td>3.704293</td>\n",
       "    </tr>\n",
       "    <tr>\n",
       "      <td>1</td>\n",
       "      <td>KIC4448777</td>\n",
       "      <td>l0__1</td>\n",
       "      <td>0</td>\n",
       "      <td>159.838651</td>\n",
       "      <td>0.028390</td>\n",
       "      <td>0.055628</td>\n",
       "      <td>0</td>\n",
       "      <td>17.011504</td>\n",
       "      <td>0.006466</td>\n",
       "      <td>17.005005</td>\n",
       "      <td>...</td>\n",
       "      <td>-0.661531</td>\n",
       "      <td>0.022203</td>\n",
       "      <td>-0.683298</td>\n",
       "      <td>-0.661921</td>\n",
       "      <td>-0.639101</td>\n",
       "      <td>3.700264</td>\n",
       "      <td>0.00457</td>\n",
       "      <td>3.6954</td>\n",
       "      <td>3.701239</td>\n",
       "      <td>3.704293</td>\n",
       "    </tr>\n",
       "    <tr>\n",
       "      <td>2</td>\n",
       "      <td>KIC4448777</td>\n",
       "      <td>l0__2</td>\n",
       "      <td>0</td>\n",
       "      <td>176.269217</td>\n",
       "      <td>0.019016</td>\n",
       "      <td>0.037262</td>\n",
       "      <td>0</td>\n",
       "      <td>17.011504</td>\n",
       "      <td>0.006466</td>\n",
       "      <td>17.005005</td>\n",
       "      <td>...</td>\n",
       "      <td>-0.661531</td>\n",
       "      <td>0.022203</td>\n",
       "      <td>-0.683298</td>\n",
       "      <td>-0.661921</td>\n",
       "      <td>-0.639101</td>\n",
       "      <td>3.700264</td>\n",
       "      <td>0.00457</td>\n",
       "      <td>3.6954</td>\n",
       "      <td>3.701239</td>\n",
       "      <td>3.704293</td>\n",
       "    </tr>\n",
       "    <tr>\n",
       "      <td>3</td>\n",
       "      <td>KIC4448777</td>\n",
       "      <td>l0__3</td>\n",
       "      <td>0</td>\n",
       "      <td>192.920943</td>\n",
       "      <td>0.015622</td>\n",
       "      <td>0.030611</td>\n",
       "      <td>0</td>\n",
       "      <td>17.011504</td>\n",
       "      <td>0.006466</td>\n",
       "      <td>17.005005</td>\n",
       "      <td>...</td>\n",
       "      <td>-0.661531</td>\n",
       "      <td>0.022203</td>\n",
       "      <td>-0.683298</td>\n",
       "      <td>-0.661921</td>\n",
       "      <td>-0.639101</td>\n",
       "      <td>3.700264</td>\n",
       "      <td>0.00457</td>\n",
       "      <td>3.6954</td>\n",
       "      <td>3.701239</td>\n",
       "      <td>3.704293</td>\n",
       "    </tr>\n",
       "    <tr>\n",
       "      <td>4</td>\n",
       "      <td>KIC4448777</td>\n",
       "      <td>l0__4</td>\n",
       "      <td>0</td>\n",
       "      <td>209.924645</td>\n",
       "      <td>0.008639</td>\n",
       "      <td>0.016927</td>\n",
       "      <td>0</td>\n",
       "      <td>17.011504</td>\n",
       "      <td>0.006466</td>\n",
       "      <td>17.005005</td>\n",
       "      <td>...</td>\n",
       "      <td>-0.661531</td>\n",
       "      <td>0.022203</td>\n",
       "      <td>-0.683298</td>\n",
       "      <td>-0.661921</td>\n",
       "      <td>-0.639101</td>\n",
       "      <td>3.700264</td>\n",
       "      <td>0.00457</td>\n",
       "      <td>3.6954</td>\n",
       "      <td>3.701239</td>\n",
       "      <td>3.704293</td>\n",
       "    </tr>\n",
       "  </tbody>\n",
       "</table>\n",
       "<p>5 rows × 97 columns</p>\n",
       "</div>"
      ],
      "text/plain": [
       "           id   name  l     nu_mean     nu_sd  nu_sd_over_prior_sd  \\\n",
       "0  KIC4448777  l0__0  0  143.085589  0.518117             1.015229   \n",
       "1  KIC4448777  l0__1  0  159.838651  0.028390             0.055628   \n",
       "2  KIC4448777  l0__2  0  176.269217  0.019016             0.037262   \n",
       "3  KIC4448777  l0__3  0  192.920943  0.015622             0.030611   \n",
       "4  KIC4448777  l0__4  0  209.924645  0.008639             0.016927   \n",
       "\n",
       "   uninformative_data   dnu_mean   dnu_std   dnu_16th  ...  \\\n",
       "0                   1  17.011504  0.006466  17.005005  ...   \n",
       "1                   0  17.011504  0.006466  17.005005  ...   \n",
       "2                   0  17.011504  0.006466  17.005005  ...   \n",
       "3                   0  17.011504  0.006466  17.005005  ...   \n",
       "4                   0  17.011504  0.006466  17.005005  ...   \n",
       "\n",
       "   log_mode_width_mean  log_mode_width_std  log_mode_width_16th  \\\n",
       "0            -0.661531            0.022203            -0.683298   \n",
       "1            -0.661531            0.022203            -0.683298   \n",
       "2            -0.661531            0.022203            -0.683298   \n",
       "3            -0.661531            0.022203            -0.683298   \n",
       "4            -0.661531            0.022203            -0.683298   \n",
       "\n",
       "   log_mode_width_50th  log_mode_width_84th  log_teff_mean  log_teff_std  \\\n",
       "0            -0.661921            -0.639101       3.700264       0.00457   \n",
       "1            -0.661921            -0.639101       3.700264       0.00457   \n",
       "2            -0.661921            -0.639101       3.700264       0.00457   \n",
       "3            -0.661921            -0.639101       3.700264       0.00457   \n",
       "4            -0.661921            -0.639101       3.700264       0.00457   \n",
       "\n",
       "   log_teff_16th  log_teff_50th  log_teff_84th  \n",
       "0         3.6954       3.701239       3.704293  \n",
       "1         3.6954       3.701239       3.704293  \n",
       "2         3.6954       3.701239       3.704293  \n",
       "3         3.6954       3.701239       3.704293  \n",
       "4         3.6954       3.701239       3.704293  \n",
       "\n",
       "[5 rows x 97 columns]"
      ]
     },
     "execution_count": 110,
     "metadata": {},
     "output_type": "execute_result"
    }
   ],
   "source": [
    "results = pd.DataFrame(peakbag_results.to_records()).merge(asy_results, left_on='id', right_index=True)\n",
    "results.head()"
   ]
  },
  {
   "cell_type": "code",
   "execution_count": 112,
   "metadata": {},
   "outputs": [],
   "source": [
    "results['nu_mod_dnu'] = results['nu_mean'] % results['dnu_mean']\n",
    "results['nu_over_dnu'] = results['nu_mean'] / results['dnu_mean']"
   ]
  },
  {
   "cell_type": "code",
   "execution_count": 114,
   "metadata": {},
   "outputs": [
    {
     "data": {
      "text/plain": [
       "<matplotlib.axes._subplots.AxesSubplot at 0x118fbe710>"
      ]
     },
     "execution_count": 114,
     "metadata": {},
     "output_type": "execute_result"
    },
    {
     "data": {
      "image/png": "[encoded data removed]",
      "text/plain": [
       "<Figure size 864x576 with 1 Axes>"
      ]
     },
     "metadata": {
      "needs_background": "light"
     },
     "output_type": "display_data"
    }
   ],
   "source": [
    "fig, ax = plt.subplots(figsize=(12, 8))\n",
    "\n",
    "results.plot(ax=ax, kind='scatter', x='nu_over_dnu', y='nu_mean')"
   ]
  },
  {
   "cell_type": "code",
   "execution_count": null,
   "metadata": {},
   "outputs": [],
   "source": []
  }
 ],
 "metadata": {
  "kernelspec": {
   "display_name": "Python 3 (Base)",
   "language": "python",
   "name": "base"
  },
  "language_info": {
   "codemirror_mode": {
    "name": "ipython",
    "version": 3
   },
   "file_extension": ".py",
   "mimetype": "text/x-python",
   "name": "python",
   "nbconvert_exporter": "python",
   "pygments_lexer": "ipython3",
   "version": "3.7.4"
  }
 },
 "nbformat": 4,
 "nbformat_minor": 2
}
