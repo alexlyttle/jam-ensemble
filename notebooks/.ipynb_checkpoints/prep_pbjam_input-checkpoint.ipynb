{
 "cells": [
  {
   "cell_type": "code",
   "execution_count": 196,
   "metadata": {},
   "outputs": [],
   "source": [
    "import pandas as pd\n",
    "import numpy as np\n",
    "import os\n",
    "import matplotlib.pyplot as plt"
   ]
  },
  {
   "cell_type": "code",
   "execution_count": 189,
   "metadata": {},
   "outputs": [],
   "source": [
    "PATH_TO_MASTER_INPUT = '/Users/ajl573/Data/tkallinger_xmatch_yu_nearest.csv'\n",
    "\n",
    "OUTPUT_DIR = '/Users/ajl573/Data'\n",
    "OUTPUT_PREFIX = 'tkallinger_xmatch_'"
   ]
  },
  {
   "cell_type": "code",
   "execution_count": 130,
   "metadata": {},
   "outputs": [
    {
     "data": {
      "text/html": [
       "<div>\n",
       "<style scoped>\n",
       "    .dataframe tbody tr th:only-of-type {\n",
       "        vertical-align: middle;\n",
       "    }\n",
       "\n",
       "    .dataframe tbody tr th {\n",
       "        vertical-align: top;\n",
       "    }\n",
       "\n",
       "    .dataframe thead th {\n",
       "        text-align: right;\n",
       "    }\n",
       "</style>\n",
       "<table border=\"1\" class=\"dataframe\">\n",
       "  <thead>\n",
       "    <tr style=\"text-align: right;\">\n",
       "      <th></th>\n",
       "      <th>ID</th>\n",
       "      <th>fmax</th>\n",
       "      <th>fmax_e</th>\n",
       "      <th>dnu_cor</th>\n",
       "      <th>dnu_cor_e</th>\n",
       "      <th>dnu02</th>\n",
       "      <th>dnu02_e</th>\n",
       "      <th>fm</th>\n",
       "      <th>fm_e</th>\n",
       "      <th>dnu</th>\n",
       "      <th>...</th>\n",
       "      <th>R_noCorrection_err</th>\n",
       "      <th>M_RGB</th>\n",
       "      <th>M_RGB_err</th>\n",
       "      <th>R_RGB</th>\n",
       "      <th>R_RGB_err</th>\n",
       "      <th>M_Clump</th>\n",
       "      <th>M_Clump_err</th>\n",
       "      <th>R_Clump</th>\n",
       "      <th>R_Clump_err</th>\n",
       "      <th>EvoPhase</th>\n",
       "    </tr>\n",
       "  </thead>\n",
       "  <tbody>\n",
       "    <tr>\n",
       "      <td>0</td>\n",
       "      <td>1027337</td>\n",
       "      <td>75.072067</td>\n",
       "      <td>0.258636</td>\n",
       "      <td>6.981310</td>\n",
       "      <td>0.004437</td>\n",
       "      <td>0.884766</td>\n",
       "      <td>0.008219</td>\n",
       "      <td>77.403887</td>\n",
       "      <td>0.006913</td>\n",
       "      <td>6.953449</td>\n",
       "      <td>...</td>\n",
       "      <td>0.16</td>\n",
       "      <td>1.34</td>\n",
       "      <td>0.07</td>\n",
       "      <td>7.89</td>\n",
       "      <td>0.15</td>\n",
       "      <td>1.46</td>\n",
       "      <td>0.08</td>\n",
       "      <td>8.23</td>\n",
       "      <td>0.16</td>\n",
       "      <td>1.0</td>\n",
       "    </tr>\n",
       "    <tr>\n",
       "      <td>1</td>\n",
       "      <td>1160789</td>\n",
       "      <td>25.318476</td>\n",
       "      <td>0.188775</td>\n",
       "      <td>3.508686</td>\n",
       "      <td>0.005667</td>\n",
       "      <td>0.539247</td>\n",
       "      <td>0.012753</td>\n",
       "      <td>24.395147</td>\n",
       "      <td>0.009639</td>\n",
       "      <td>3.614602</td>\n",
       "      <td>...</td>\n",
       "      <td>0.44</td>\n",
       "      <td>0.74</td>\n",
       "      <td>0.08</td>\n",
       "      <td>10.14</td>\n",
       "      <td>0.41</td>\n",
       "      <td>0.83</td>\n",
       "      <td>0.09</td>\n",
       "      <td>10.70</td>\n",
       "      <td>0.43</td>\n",
       "      <td>2.0</td>\n",
       "    </tr>\n",
       "    <tr>\n",
       "      <td>2</td>\n",
       "      <td>1161447</td>\n",
       "      <td>36.816770</td>\n",
       "      <td>0.220016</td>\n",
       "      <td>4.237181</td>\n",
       "      <td>0.011425</td>\n",
       "      <td>0.595636</td>\n",
       "      <td>0.017313</td>\n",
       "      <td>41.448697</td>\n",
       "      <td>0.013643</td>\n",
       "      <td>4.218977</td>\n",
       "      <td>...</td>\n",
       "      <td>0.61</td>\n",
       "      <td>1.31</td>\n",
       "      <td>0.19</td>\n",
       "      <td>11.07</td>\n",
       "      <td>0.59</td>\n",
       "      <td>1.41</td>\n",
       "      <td>0.21</td>\n",
       "      <td>11.52</td>\n",
       "      <td>0.62</td>\n",
       "      <td>2.0</td>\n",
       "    </tr>\n",
       "    <tr>\n",
       "      <td>3</td>\n",
       "      <td>1161618</td>\n",
       "      <td>33.909153</td>\n",
       "      <td>0.218859</td>\n",
       "      <td>4.041346</td>\n",
       "      <td>0.008986</td>\n",
       "      <td>0.591156</td>\n",
       "      <td>0.018699</td>\n",
       "      <td>32.334761</td>\n",
       "      <td>0.011308</td>\n",
       "      <td>4.114817</td>\n",
       "      <td>...</td>\n",
       "      <td>0.28</td>\n",
       "      <td>1.11</td>\n",
       "      <td>0.08</td>\n",
       "      <td>10.52</td>\n",
       "      <td>0.27</td>\n",
       "      <td>1.20</td>\n",
       "      <td>0.08</td>\n",
       "      <td>10.92</td>\n",
       "      <td>0.28</td>\n",
       "      <td>2.0</td>\n",
       "    </tr>\n",
       "    <tr>\n",
       "      <td>4</td>\n",
       "      <td>1162220</td>\n",
       "      <td>11.042437</td>\n",
       "      <td>0.099790</td>\n",
       "      <td>1.659925</td>\n",
       "      <td>0.003235</td>\n",
       "      <td>0.252797</td>\n",
       "      <td>0.008366</td>\n",
       "      <td>11.378188</td>\n",
       "      <td>0.006891</td>\n",
       "      <td>1.686936</td>\n",
       "      <td>...</td>\n",
       "      <td>0.84</td>\n",
       "      <td>1.04</td>\n",
       "      <td>0.11</td>\n",
       "      <td>18.52</td>\n",
       "      <td>0.77</td>\n",
       "      <td>1.18</td>\n",
       "      <td>0.13</td>\n",
       "      <td>19.67</td>\n",
       "      <td>0.83</td>\n",
       "      <td>1.0</td>\n",
       "    </tr>\n",
       "  </tbody>\n",
       "</table>\n",
       "<p>5 rows × 171 columns</p>\n",
       "</div>"
      ],
      "text/plain": [
       "        ID       fmax    fmax_e   dnu_cor  dnu_cor_e     dnu02   dnu02_e  \\\n",
       "0  1027337  75.072067  0.258636  6.981310   0.004437  0.884766  0.008219   \n",
       "1  1160789  25.318476  0.188775  3.508686   0.005667  0.539247  0.012753   \n",
       "2  1161447  36.816770  0.220016  4.237181   0.011425  0.595636  0.017313   \n",
       "3  1161618  33.909153  0.218859  4.041346   0.008986  0.591156  0.018699   \n",
       "4  1162220  11.042437  0.099790  1.659925   0.003235  0.252797  0.008366   \n",
       "\n",
       "          fm      fm_e       dnu  ...  R_noCorrection_err  M_RGB  M_RGB_err  \\\n",
       "0  77.403887  0.006913  6.953449  ...                0.16   1.34       0.07   \n",
       "1  24.395147  0.009639  3.614602  ...                0.44   0.74       0.08   \n",
       "2  41.448697  0.013643  4.218977  ...                0.61   1.31       0.19   \n",
       "3  32.334761  0.011308  4.114817  ...                0.28   1.11       0.08   \n",
       "4  11.378188  0.006891  1.686936  ...                0.84   1.04       0.11   \n",
       "\n",
       "   R_RGB  R_RGB_err M_Clump  M_Clump_err  R_Clump  R_Clump_err  EvoPhase  \n",
       "0   7.89       0.15    1.46         0.08     8.23         0.16       1.0  \n",
       "1  10.14       0.41    0.83         0.09    10.70         0.43       2.0  \n",
       "2  11.07       0.59    1.41         0.21    11.52         0.62       2.0  \n",
       "3  10.52       0.27    1.20         0.08    10.92         0.28       2.0  \n",
       "4  18.52       0.77    1.18         0.13    19.67         0.83       1.0  \n",
       "\n",
       "[5 rows x 171 columns]"
      ]
     },
     "execution_count": 130,
     "metadata": {},
     "output_type": "execute_result"
    }
   ],
   "source": [
    "df = pd.read_csv(PATH_TO_MASTER_INPUT)\n",
    "df.head()"
   ]
  },
  {
   "cell_type": "code",
   "execution_count": 131,
   "metadata": {},
   "outputs": [
    {
     "name": "stdout",
     "output_type": "stream",
     "text": [
      "rv_template_teff\n",
      "teff_val\n",
      "teff_percentile_lower\n",
      "teff_percentile_upper\n",
      "teff\n",
      "teff_err1\n",
      "teff_err2\n",
      "teff_prov\n",
      "Teff\n",
      "Teff_err\n"
     ]
    }
   ],
   "source": [
    "for c in df.columns:\n",
    "    if 'teff' in c.lower():\n",
    "        print(c)"
   ]
  },
  {
   "cell_type": "code",
   "execution_count": 132,
   "metadata": {},
   "outputs": [
    {
     "data": {
      "text/html": [
       "<div>\n",
       "<style scoped>\n",
       "    .dataframe tbody tr th:only-of-type {\n",
       "        vertical-align: middle;\n",
       "    }\n",
       "\n",
       "    .dataframe tbody tr th {\n",
       "        vertical-align: top;\n",
       "    }\n",
       "\n",
       "    .dataframe thead th {\n",
       "        text-align: right;\n",
       "    }\n",
       "</style>\n",
       "<table border=\"1\" class=\"dataframe\">\n",
       "  <thead>\n",
       "    <tr style=\"text-align: right;\">\n",
       "      <th></th>\n",
       "      <th>teff_err1</th>\n",
       "      <th>teff_err2</th>\n",
       "      <th>teff_percentile_lower</th>\n",
       "      <th>teff_percentile_upper</th>\n",
       "    </tr>\n",
       "  </thead>\n",
       "  <tbody>\n",
       "    <tr>\n",
       "      <td>0</td>\n",
       "      <td>48</td>\n",
       "      <td>-90</td>\n",
       "      <td>4579.3800</td>\n",
       "      <td>4865.7100</td>\n",
       "    </tr>\n",
       "    <tr>\n",
       "      <td>1</td>\n",
       "      <td>35</td>\n",
       "      <td>-84</td>\n",
       "      <td>4764.5728</td>\n",
       "      <td>4896.3850</td>\n",
       "    </tr>\n",
       "    <tr>\n",
       "      <td>2</td>\n",
       "      <td>66</td>\n",
       "      <td>-124</td>\n",
       "      <td>4635.9800</td>\n",
       "      <td>4849.6600</td>\n",
       "    </tr>\n",
       "    <tr>\n",
       "      <td>3</td>\n",
       "      <td>66</td>\n",
       "      <td>-123</td>\n",
       "      <td>4661.3200</td>\n",
       "      <td>4924.0000</td>\n",
       "    </tr>\n",
       "    <tr>\n",
       "      <td>4</td>\n",
       "      <td>70</td>\n",
       "      <td>-44</td>\n",
       "      <td>4176.5000</td>\n",
       "      <td>4311.3170</td>\n",
       "    </tr>\n",
       "    <tr>\n",
       "      <td>...</td>\n",
       "      <td>...</td>\n",
       "      <td>...</td>\n",
       "      <td>...</td>\n",
       "      <td>...</td>\n",
       "    </tr>\n",
       "    <tr>\n",
       "      <td>6174</td>\n",
       "      <td>43</td>\n",
       "      <td>-94</td>\n",
       "      <td>4868.1200</td>\n",
       "      <td>4923.3125</td>\n",
       "    </tr>\n",
       "    <tr>\n",
       "      <td>6175</td>\n",
       "      <td>41</td>\n",
       "      <td>-90</td>\n",
       "      <td>4595.1367</td>\n",
       "      <td>4768.7850</td>\n",
       "    </tr>\n",
       "    <tr>\n",
       "      <td>6176</td>\n",
       "      <td>42</td>\n",
       "      <td>-78</td>\n",
       "      <td>4678.4067</td>\n",
       "      <td>4997.3174</td>\n",
       "    </tr>\n",
       "    <tr>\n",
       "      <td>6177</td>\n",
       "      <td>63</td>\n",
       "      <td>-63</td>\n",
       "      <td>4558.9800</td>\n",
       "      <td>4816.4680</td>\n",
       "    </tr>\n",
       "    <tr>\n",
       "      <td>6178</td>\n",
       "      <td>51</td>\n",
       "      <td>-87</td>\n",
       "      <td>4672.4966</td>\n",
       "      <td>4885.0100</td>\n",
       "    </tr>\n",
       "  </tbody>\n",
       "</table>\n",
       "<p>6179 rows × 4 columns</p>\n",
       "</div>"
      ],
      "text/plain": [
       "      teff_err1  teff_err2  teff_percentile_lower  teff_percentile_upper\n",
       "0            48        -90              4579.3800              4865.7100\n",
       "1            35        -84              4764.5728              4896.3850\n",
       "2            66       -124              4635.9800              4849.6600\n",
       "3            66       -123              4661.3200              4924.0000\n",
       "4            70        -44              4176.5000              4311.3170\n",
       "...         ...        ...                    ...                    ...\n",
       "6174         43        -94              4868.1200              4923.3125\n",
       "6175         41        -90              4595.1367              4768.7850\n",
       "6176         42        -78              4678.4067              4997.3174\n",
       "6177         63        -63              4558.9800              4816.4680\n",
       "6178         51        -87              4672.4966              4885.0100\n",
       "\n",
       "[6179 rows x 4 columns]"
      ]
     },
     "execution_count": 132,
     "metadata": {},
     "output_type": "execute_result"
    }
   ],
   "source": [
    "df[['teff_err1', 'teff_err2', 'teff_percentile_lower', 'teff_percentile_upper']]"
   ]
  },
  {
   "cell_type": "code",
   "execution_count": 133,
   "metadata": {},
   "outputs": [
    {
     "data": {
      "image/png": "[encoded data removed]",
      "text/plain": [
       "<Figure size 432x288 with 1 Axes>"
      ]
     },
     "metadata": {
      "needs_background": "light"
     },
     "output_type": "display_data"
    }
   ],
   "source": [
    "sample = df.sample(n=500)\n",
    "xerr=[sample['teff_err1'], sample['teff_err2']]\n",
    "yerr = [sample['teff_percentile_upper'] - sample['teff_val'],\n",
    "        sample['teff_percentile_lower'] - sample['teff_val']]\n",
    "ax = sample.plot(x='teff', y='teff_val',\n",
    "             xerr=xerr, yerr=yerr,\n",
    "             kind='scatter', alpha=0.2)\n",
    "ax.plot(np.linspace(3750, 5500), np.linspace(3750, 5500), 'k--');"
   ]
  },
  {
   "cell_type": "code",
   "execution_count": 173,
   "metadata": {},
   "outputs": [
    {
     "data": {
      "text/plain": [
       "<matplotlib.axes._subplots.AxesSubplot at 0x128b92650>"
      ]
     },
     "execution_count": 173,
     "metadata": {},
     "output_type": "execute_result"
    },
    {
     "data": {
      "image/png": "[encoded data removed]",
      "text/plain": [
       "<Figure size 432x288 with 1 Axes>"
      ]
     },
     "metadata": {
      "needs_background": "light"
     },
     "output_type": "display_data"
    }
   ],
   "source": [
    "# Compute teff error columns by assuming upper - lower\n",
    "df['teff_val_err'] = df['teff_percentile_upper'] - df['teff_percentile_lower']\n",
    "df['teff_val_err'].plot(kind='hist', bins=40, range=(0, 1000))"
   ]
  },
  {
   "cell_type": "code",
   "execution_count": 174,
   "metadata": {},
   "outputs": [
    {
     "data": {
      "text/plain": [
       "<matplotlib.axes._subplots.AxesSubplot at 0x1292e9f10>"
      ]
     },
     "execution_count": 174,
     "metadata": {},
     "output_type": "execute_result"
    },
    {
     "data": {
      "image/png": "[encoded data removed]",
      "text/plain": [
       "<Figure size 432x288 with 1 Axes>"
      ]
     },
     "metadata": {
      "needs_background": "light"
     },
     "output_type": "display_data"
    }
   ],
   "source": [
    "df['teff_err'] = df['teff_err1'] - df['teff_err2']\n",
    "df['teff_err'].plot(kind='hist', bins=40, range=(0, 1000))"
   ]
  },
  {
   "cell_type": "code",
   "execution_count": 175,
   "metadata": {},
   "outputs": [
    {
     "data": {
      "text/plain": [
       "<matplotlib.axes._subplots.AxesSubplot at 0x12941fd10>"
      ]
     },
     "execution_count": 175,
     "metadata": {},
     "output_type": "execute_result"
    },
    {
     "data": {
      "image/png": "[encoded data removed]",
      "text/plain": [
       "<Figure size 432x288 with 1 Axes>"
      ]
     },
     "metadata": {
      "needs_background": "light"
     },
     "output_type": "display_data"
    }
   ],
   "source": [
    "df['Teff_err'].plot(kind='hist', bins=20)"
   ]
  },
  {
   "cell_type": "code",
   "execution_count": 176,
   "metadata": {},
   "outputs": [],
   "source": [
    "input_cols = ['ID', 'fmax', 'fmax_e', 'dnu_cor', 'dnu_cor_e', 'Teff', 'Teff_err', 'bp_rp', 'e_bp_min_rp_val']"
   ]
  },
  {
   "cell_type": "code",
   "execution_count": 177,
   "metadata": {},
   "outputs": [
    {
     "data": {
      "text/html": [
       "<div>\n",
       "<style scoped>\n",
       "    .dataframe tbody tr th:only-of-type {\n",
       "        vertical-align: middle;\n",
       "    }\n",
       "\n",
       "    .dataframe tbody tr th {\n",
       "        vertical-align: top;\n",
       "    }\n",
       "\n",
       "    .dataframe thead th {\n",
       "        text-align: right;\n",
       "    }\n",
       "</style>\n",
       "<table border=\"1\" class=\"dataframe\">\n",
       "  <thead>\n",
       "    <tr style=\"text-align: right;\">\n",
       "      <th></th>\n",
       "      <th>ID</th>\n",
       "      <th>fmax</th>\n",
       "      <th>fmax_e</th>\n",
       "      <th>dnu_cor</th>\n",
       "      <th>dnu_cor_e</th>\n",
       "      <th>Teff</th>\n",
       "      <th>Teff_err</th>\n",
       "      <th>bp_rp</th>\n",
       "      <th>e_bp_min_rp_val</th>\n",
       "    </tr>\n",
       "  </thead>\n",
       "  <tbody>\n",
       "    <tr>\n",
       "      <td>0</td>\n",
       "      <td>1027337</td>\n",
       "      <td>75.072067</td>\n",
       "      <td>0.258636</td>\n",
       "      <td>6.981310</td>\n",
       "      <td>0.004437</td>\n",
       "      <td>4671.0</td>\n",
       "      <td>80.0</td>\n",
       "      <td>1.349916</td>\n",
       "      <td>0.241</td>\n",
       "    </tr>\n",
       "    <tr>\n",
       "      <td>1</td>\n",
       "      <td>1160789</td>\n",
       "      <td>25.318476</td>\n",
       "      <td>0.188775</td>\n",
       "      <td>3.508686</td>\n",
       "      <td>0.005667</td>\n",
       "      <td>4724.0</td>\n",
       "      <td>80.0</td>\n",
       "      <td>1.215082</td>\n",
       "      <td>0.023</td>\n",
       "    </tr>\n",
       "    <tr>\n",
       "      <td>2</td>\n",
       "      <td>1161447</td>\n",
       "      <td>36.816770</td>\n",
       "      <td>0.220016</td>\n",
       "      <td>4.237181</td>\n",
       "      <td>0.011425</td>\n",
       "      <td>4793.0</td>\n",
       "      <td>80.0</td>\n",
       "      <td>1.375460</td>\n",
       "      <td>NaN</td>\n",
       "    </tr>\n",
       "    <tr>\n",
       "      <td>3</td>\n",
       "      <td>1161618</td>\n",
       "      <td>33.909153</td>\n",
       "      <td>0.218859</td>\n",
       "      <td>4.041346</td>\n",
       "      <td>0.008986</td>\n",
       "      <td>4747.0</td>\n",
       "      <td>80.0</td>\n",
       "      <td>1.273821</td>\n",
       "      <td>0.050</td>\n",
       "    </tr>\n",
       "    <tr>\n",
       "      <td>4</td>\n",
       "      <td>1162220</td>\n",
       "      <td>11.042437</td>\n",
       "      <td>0.099790</td>\n",
       "      <td>1.659925</td>\n",
       "      <td>0.003235</td>\n",
       "      <td>4218.0</td>\n",
       "      <td>80.0</td>\n",
       "      <td>1.619142</td>\n",
       "      <td>0.228</td>\n",
       "    </tr>\n",
       "  </tbody>\n",
       "</table>\n",
       "</div>"
      ],
      "text/plain": [
       "        ID       fmax    fmax_e   dnu_cor  dnu_cor_e    Teff  Teff_err  \\\n",
       "0  1027337  75.072067  0.258636  6.981310   0.004437  4671.0      80.0   \n",
       "1  1160789  25.318476  0.188775  3.508686   0.005667  4724.0      80.0   \n",
       "2  1161447  36.816770  0.220016  4.237181   0.011425  4793.0      80.0   \n",
       "3  1161618  33.909153  0.218859  4.041346   0.008986  4747.0      80.0   \n",
       "4  1162220  11.042437  0.099790  1.659925   0.003235  4218.0      80.0   \n",
       "\n",
       "      bp_rp  e_bp_min_rp_val  \n",
       "0  1.349916            0.241  \n",
       "1  1.215082            0.023  \n",
       "2  1.375460              NaN  \n",
       "3  1.273821            0.050  \n",
       "4  1.619142            0.228  "
      ]
     },
     "execution_count": 177,
     "metadata": {},
     "output_type": "execute_result"
    }
   ],
   "source": [
    "df_input = df[input_cols].copy()\n",
    "df_input.head()"
   ]
  },
  {
   "cell_type": "code",
   "execution_count": 178,
   "metadata": {},
   "outputs": [],
   "source": [
    "# Set nan errors to 0.1\n",
    "df_input.loc[:, 'e_bp_min_rp_val'] = df_input['e_bp_min_rp_val'].fillna(value=0.1)"
   ]
  },
  {
   "cell_type": "code",
   "execution_count": 179,
   "metadata": {},
   "outputs": [],
   "source": [
    "# Set nan errors to 0.1\n",
    "df_input.loc[:, 'Teff'] = df_input['Teff'].fillna(value=df['teff_val'])\n",
    "df_input.loc[:, 'Teff_err'] = df_input['Teff_err'].fillna(value=df['teff_val_err'])"
   ]
  },
  {
   "cell_type": "code",
   "execution_count": 180,
   "metadata": {},
   "outputs": [
    {
     "data": {
      "text/html": [
       "<div>\n",
       "<style scoped>\n",
       "    .dataframe tbody tr th:only-of-type {\n",
       "        vertical-align: middle;\n",
       "    }\n",
       "\n",
       "    .dataframe tbody tr th {\n",
       "        vertical-align: top;\n",
       "    }\n",
       "\n",
       "    .dataframe thead th {\n",
       "        text-align: right;\n",
       "    }\n",
       "</style>\n",
       "<table border=\"1\" class=\"dataframe\">\n",
       "  <thead>\n",
       "    <tr style=\"text-align: right;\">\n",
       "      <th></th>\n",
       "      <th>ID</th>\n",
       "      <th>fmax</th>\n",
       "      <th>fmax_e</th>\n",
       "      <th>dnu_cor</th>\n",
       "      <th>dnu_cor_e</th>\n",
       "      <th>Teff</th>\n",
       "      <th>Teff_err</th>\n",
       "      <th>bp_rp</th>\n",
       "      <th>e_bp_min_rp_val</th>\n",
       "    </tr>\n",
       "  </thead>\n",
       "  <tbody>\n",
       "    <tr>\n",
       "      <td>0</td>\n",
       "      <td>1027337</td>\n",
       "      <td>75.072067</td>\n",
       "      <td>0.258636</td>\n",
       "      <td>6.981310</td>\n",
       "      <td>0.004437</td>\n",
       "      <td>4671.0</td>\n",
       "      <td>80.0</td>\n",
       "      <td>1.349916</td>\n",
       "      <td>0.241</td>\n",
       "    </tr>\n",
       "    <tr>\n",
       "      <td>1</td>\n",
       "      <td>1160789</td>\n",
       "      <td>25.318476</td>\n",
       "      <td>0.188775</td>\n",
       "      <td>3.508686</td>\n",
       "      <td>0.005667</td>\n",
       "      <td>4724.0</td>\n",
       "      <td>80.0</td>\n",
       "      <td>1.215082</td>\n",
       "      <td>0.023</td>\n",
       "    </tr>\n",
       "    <tr>\n",
       "      <td>2</td>\n",
       "      <td>1161447</td>\n",
       "      <td>36.816770</td>\n",
       "      <td>0.220016</td>\n",
       "      <td>4.237181</td>\n",
       "      <td>0.011425</td>\n",
       "      <td>4793.0</td>\n",
       "      <td>80.0</td>\n",
       "      <td>1.375460</td>\n",
       "      <td>0.100</td>\n",
       "    </tr>\n",
       "    <tr>\n",
       "      <td>3</td>\n",
       "      <td>1161618</td>\n",
       "      <td>33.909153</td>\n",
       "      <td>0.218859</td>\n",
       "      <td>4.041346</td>\n",
       "      <td>0.008986</td>\n",
       "      <td>4747.0</td>\n",
       "      <td>80.0</td>\n",
       "      <td>1.273821</td>\n",
       "      <td>0.050</td>\n",
       "    </tr>\n",
       "    <tr>\n",
       "      <td>4</td>\n",
       "      <td>1162220</td>\n",
       "      <td>11.042437</td>\n",
       "      <td>0.099790</td>\n",
       "      <td>1.659925</td>\n",
       "      <td>0.003235</td>\n",
       "      <td>4218.0</td>\n",
       "      <td>80.0</td>\n",
       "      <td>1.619142</td>\n",
       "      <td>0.228</td>\n",
       "    </tr>\n",
       "  </tbody>\n",
       "</table>\n",
       "</div>"
      ],
      "text/plain": [
       "        ID       fmax    fmax_e   dnu_cor  dnu_cor_e    Teff  Teff_err  \\\n",
       "0  1027337  75.072067  0.258636  6.981310   0.004437  4671.0      80.0   \n",
       "1  1160789  25.318476  0.188775  3.508686   0.005667  4724.0      80.0   \n",
       "2  1161447  36.816770  0.220016  4.237181   0.011425  4793.0      80.0   \n",
       "3  1161618  33.909153  0.218859  4.041346   0.008986  4747.0      80.0   \n",
       "4  1162220  11.042437  0.099790  1.659925   0.003235  4218.0      80.0   \n",
       "\n",
       "      bp_rp  e_bp_min_rp_val  \n",
       "0  1.349916            0.241  \n",
       "1  1.215082            0.023  \n",
       "2  1.375460            0.100  \n",
       "3  1.273821            0.050  \n",
       "4  1.619142            0.228  "
      ]
     },
     "execution_count": 180,
     "metadata": {},
     "output_type": "execute_result"
    }
   ],
   "source": [
    "df_input.head()"
   ]
  },
  {
   "cell_type": "code",
   "execution_count": 181,
   "metadata": {},
   "outputs": [
    {
     "data": {
      "text/plain": [
       "ID                 False\n",
       "fmax               False\n",
       "fmax_e             False\n",
       "dnu_cor            False\n",
       "dnu_cor_e          False\n",
       "Teff               False\n",
       "Teff_err           False\n",
       "bp_rp              False\n",
       "e_bp_min_rp_val    False\n",
       "dtype: bool"
      ]
     },
     "execution_count": 181,
     "metadata": {},
     "output_type": "execute_result"
    }
   ],
   "source": [
    "df_input.isnull().any()"
   ]
  },
  {
   "cell_type": "markdown",
   "metadata": {},
   "source": [
    "No more null values!!"
   ]
  },
  {
   "cell_type": "code",
   "execution_count": 182,
   "metadata": {},
   "outputs": [],
   "source": [
    "new_col_names = ['ID', 'numax', 'numax_err', 'dnu', 'dnu_err', 'teff', 'teff_err', 'bp_rp', 'bp_rp_err']\n",
    "df_input.columns = new_col_names"
   ]
  },
  {
   "cell_type": "code",
   "execution_count": 183,
   "metadata": {},
   "outputs": [
    {
     "data": {
      "text/html": [
       "<div>\n",
       "<style scoped>\n",
       "    .dataframe tbody tr th:only-of-type {\n",
       "        vertical-align: middle;\n",
       "    }\n",
       "\n",
       "    .dataframe tbody tr th {\n",
       "        vertical-align: top;\n",
       "    }\n",
       "\n",
       "    .dataframe thead th {\n",
       "        text-align: right;\n",
       "    }\n",
       "</style>\n",
       "<table border=\"1\" class=\"dataframe\">\n",
       "  <thead>\n",
       "    <tr style=\"text-align: right;\">\n",
       "      <th></th>\n",
       "      <th>ID</th>\n",
       "      <th>numax</th>\n",
       "      <th>numax_err</th>\n",
       "      <th>dnu</th>\n",
       "      <th>dnu_err</th>\n",
       "      <th>teff</th>\n",
       "      <th>teff_err</th>\n",
       "      <th>bp_rp</th>\n",
       "      <th>bp_rp_err</th>\n",
       "    </tr>\n",
       "  </thead>\n",
       "  <tbody>\n",
       "    <tr>\n",
       "      <td>0</td>\n",
       "      <td>1027337</td>\n",
       "      <td>75.072067</td>\n",
       "      <td>0.258636</td>\n",
       "      <td>6.981310</td>\n",
       "      <td>0.004437</td>\n",
       "      <td>4671.0</td>\n",
       "      <td>80.0</td>\n",
       "      <td>1.349916</td>\n",
       "      <td>0.241</td>\n",
       "    </tr>\n",
       "    <tr>\n",
       "      <td>1</td>\n",
       "      <td>1160789</td>\n",
       "      <td>25.318476</td>\n",
       "      <td>0.188775</td>\n",
       "      <td>3.508686</td>\n",
       "      <td>0.005667</td>\n",
       "      <td>4724.0</td>\n",
       "      <td>80.0</td>\n",
       "      <td>1.215082</td>\n",
       "      <td>0.023</td>\n",
       "    </tr>\n",
       "    <tr>\n",
       "      <td>2</td>\n",
       "      <td>1161447</td>\n",
       "      <td>36.816770</td>\n",
       "      <td>0.220016</td>\n",
       "      <td>4.237181</td>\n",
       "      <td>0.011425</td>\n",
       "      <td>4793.0</td>\n",
       "      <td>80.0</td>\n",
       "      <td>1.375460</td>\n",
       "      <td>0.100</td>\n",
       "    </tr>\n",
       "    <tr>\n",
       "      <td>3</td>\n",
       "      <td>1161618</td>\n",
       "      <td>33.909153</td>\n",
       "      <td>0.218859</td>\n",
       "      <td>4.041346</td>\n",
       "      <td>0.008986</td>\n",
       "      <td>4747.0</td>\n",
       "      <td>80.0</td>\n",
       "      <td>1.273821</td>\n",
       "      <td>0.050</td>\n",
       "    </tr>\n",
       "    <tr>\n",
       "      <td>4</td>\n",
       "      <td>1162220</td>\n",
       "      <td>11.042437</td>\n",
       "      <td>0.099790</td>\n",
       "      <td>1.659925</td>\n",
       "      <td>0.003235</td>\n",
       "      <td>4218.0</td>\n",
       "      <td>80.0</td>\n",
       "      <td>1.619142</td>\n",
       "      <td>0.228</td>\n",
       "    </tr>\n",
       "  </tbody>\n",
       "</table>\n",
       "</div>"
      ],
      "text/plain": [
       "        ID      numax  numax_err       dnu   dnu_err    teff  teff_err  \\\n",
       "0  1027337  75.072067   0.258636  6.981310  0.004437  4671.0      80.0   \n",
       "1  1160789  25.318476   0.188775  3.508686  0.005667  4724.0      80.0   \n",
       "2  1161447  36.816770   0.220016  4.237181  0.011425  4793.0      80.0   \n",
       "3  1161618  33.909153   0.218859  4.041346  0.008986  4747.0      80.0   \n",
       "4  1162220  11.042437   0.099790  1.659925  0.003235  4218.0      80.0   \n",
       "\n",
       "      bp_rp  bp_rp_err  \n",
       "0  1.349916      0.241  \n",
       "1  1.215082      0.023  \n",
       "2  1.375460      0.100  \n",
       "3  1.273821      0.050  \n",
       "4  1.619142      0.228  "
      ]
     },
     "execution_count": 183,
     "metadata": {},
     "output_type": "execute_result"
    }
   ],
   "source": [
    "df_input.head()"
   ]
  },
  {
   "cell_type": "code",
   "execution_count": 184,
   "metadata": {},
   "outputs": [],
   "source": [
    "df_input['ID'] = df_input['ID'].astype(str)\n",
    "df_input['ID'] = 'KIC' + df_input['ID']"
   ]
  },
  {
   "cell_type": "code",
   "execution_count": 185,
   "metadata": {},
   "outputs": [
    {
     "data": {
      "text/html": [
       "<div>\n",
       "<style scoped>\n",
       "    .dataframe tbody tr th:only-of-type {\n",
       "        vertical-align: middle;\n",
       "    }\n",
       "\n",
       "    .dataframe tbody tr th {\n",
       "        vertical-align: top;\n",
       "    }\n",
       "\n",
       "    .dataframe thead th {\n",
       "        text-align: right;\n",
       "    }\n",
       "</style>\n",
       "<table border=\"1\" class=\"dataframe\">\n",
       "  <thead>\n",
       "    <tr style=\"text-align: right;\">\n",
       "      <th></th>\n",
       "      <th>ID</th>\n",
       "      <th>numax</th>\n",
       "      <th>numax_err</th>\n",
       "      <th>dnu</th>\n",
       "      <th>dnu_err</th>\n",
       "      <th>teff</th>\n",
       "      <th>teff_err</th>\n",
       "      <th>bp_rp</th>\n",
       "      <th>bp_rp_err</th>\n",
       "    </tr>\n",
       "  </thead>\n",
       "  <tbody>\n",
       "    <tr>\n",
       "      <td>0</td>\n",
       "      <td>KIC1027337</td>\n",
       "      <td>75.072067</td>\n",
       "      <td>0.258636</td>\n",
       "      <td>6.981310</td>\n",
       "      <td>0.004437</td>\n",
       "      <td>4671.0</td>\n",
       "      <td>80.0</td>\n",
       "      <td>1.349916</td>\n",
       "      <td>0.241</td>\n",
       "    </tr>\n",
       "    <tr>\n",
       "      <td>1</td>\n",
       "      <td>KIC1160789</td>\n",
       "      <td>25.318476</td>\n",
       "      <td>0.188775</td>\n",
       "      <td>3.508686</td>\n",
       "      <td>0.005667</td>\n",
       "      <td>4724.0</td>\n",
       "      <td>80.0</td>\n",
       "      <td>1.215082</td>\n",
       "      <td>0.023</td>\n",
       "    </tr>\n",
       "    <tr>\n",
       "      <td>2</td>\n",
       "      <td>KIC1161447</td>\n",
       "      <td>36.816770</td>\n",
       "      <td>0.220016</td>\n",
       "      <td>4.237181</td>\n",
       "      <td>0.011425</td>\n",
       "      <td>4793.0</td>\n",
       "      <td>80.0</td>\n",
       "      <td>1.375460</td>\n",
       "      <td>0.100</td>\n",
       "    </tr>\n",
       "    <tr>\n",
       "      <td>3</td>\n",
       "      <td>KIC1161618</td>\n",
       "      <td>33.909153</td>\n",
       "      <td>0.218859</td>\n",
       "      <td>4.041346</td>\n",
       "      <td>0.008986</td>\n",
       "      <td>4747.0</td>\n",
       "      <td>80.0</td>\n",
       "      <td>1.273821</td>\n",
       "      <td>0.050</td>\n",
       "    </tr>\n",
       "    <tr>\n",
       "      <td>4</td>\n",
       "      <td>KIC1162220</td>\n",
       "      <td>11.042437</td>\n",
       "      <td>0.099790</td>\n",
       "      <td>1.659925</td>\n",
       "      <td>0.003235</td>\n",
       "      <td>4218.0</td>\n",
       "      <td>80.0</td>\n",
       "      <td>1.619142</td>\n",
       "      <td>0.228</td>\n",
       "    </tr>\n",
       "  </tbody>\n",
       "</table>\n",
       "</div>"
      ],
      "text/plain": [
       "           ID      numax  numax_err       dnu   dnu_err    teff  teff_err  \\\n",
       "0  KIC1027337  75.072067   0.258636  6.981310  0.004437  4671.0      80.0   \n",
       "1  KIC1160789  25.318476   0.188775  3.508686  0.005667  4724.0      80.0   \n",
       "2  KIC1161447  36.816770   0.220016  4.237181  0.011425  4793.0      80.0   \n",
       "3  KIC1161618  33.909153   0.218859  4.041346  0.008986  4747.0      80.0   \n",
       "4  KIC1162220  11.042437   0.099790  1.659925  0.003235  4218.0      80.0   \n",
       "\n",
       "      bp_rp  bp_rp_err  \n",
       "0  1.349916      0.241  \n",
       "1  1.215082      0.023  \n",
       "2  1.375460      0.100  \n",
       "3  1.273821      0.050  \n",
       "4  1.619142      0.228  "
      ]
     },
     "execution_count": 185,
     "metadata": {},
     "output_type": "execute_result"
    }
   ],
   "source": [
    "df_input.head()"
   ]
  },
  {
   "cell_type": "code",
   "execution_count": 199,
   "metadata": {},
   "outputs": [
    {
     "data": {
      "image/png": "[encoded data removed]",
      "text/plain": [
       "<Figure size 864x288 with 2 Axes>"
      ]
     },
     "metadata": {
      "needs_background": "light"
     },
     "output_type": "display_data"
    }
   ],
   "source": [
    "fig, ax = plt.subplots(1, 2, figsize=(12, 4))\n",
    "for i, err_cols in enumerate(['numax_err', 'dnu_err']):\n",
    "    df_input[err_cols].plot(ax=ax[i], kind='hist', bins=40)"
   ]
  },
  {
   "cell_type": "markdown",
   "metadata": {},
   "source": [
    "The trouble is, the errors are too small for PBjam input, lets inflate them ten-fold."
   ]
  },
  {
   "cell_type": "code",
   "execution_count": 201,
   "metadata": {},
   "outputs": [],
   "source": [
    "df_input[['numax_err', 'dnu_err']] = 10 * df_input[['numax_err', 'dnu_err']]"
   ]
  },
  {
   "cell_type": "code",
   "execution_count": 206,
   "metadata": {},
   "outputs": [
    {
     "data": {
      "image/png": "[encoded data removed]",
      "text/plain": [
       "<Figure size 864x288 with 2 Axes>"
      ]
     },
     "metadata": {
      "needs_background": "light"
     },
     "output_type": "display_data"
    }
   ],
   "source": [
    "fig, ax = plt.subplots(1, 2, figsize=(12, 4))\n",
    "for i, err_cols in enumerate(['numax_err', 'dnu_err']):\n",
    "    df_input[err_cols].plot(ax=ax[i], kind='hist', bins=40)"
   ]
  },
  {
   "cell_type": "code",
   "execution_count": 207,
   "metadata": {},
   "outputs": [
    {
     "data": {
      "text/html": [
       "<div>\n",
       "<style scoped>\n",
       "    .dataframe tbody tr th:only-of-type {\n",
       "        vertical-align: middle;\n",
       "    }\n",
       "\n",
       "    .dataframe tbody tr th {\n",
       "        vertical-align: top;\n",
       "    }\n",
       "\n",
       "    .dataframe thead th {\n",
       "        text-align: right;\n",
       "    }\n",
       "</style>\n",
       "<table border=\"1\" class=\"dataframe\">\n",
       "  <thead>\n",
       "    <tr style=\"text-align: right;\">\n",
       "      <th></th>\n",
       "      <th>numax_err</th>\n",
       "      <th>dnu_err</th>\n",
       "    </tr>\n",
       "  </thead>\n",
       "  <tbody>\n",
       "    <tr>\n",
       "      <td>count</td>\n",
       "      <td>6179.000000</td>\n",
       "      <td>6179.000000</td>\n",
       "    </tr>\n",
       "    <tr>\n",
       "      <td>mean</td>\n",
       "      <td>2.672120</td>\n",
       "      <td>0.072363</td>\n",
       "    </tr>\n",
       "    <tr>\n",
       "      <td>std</td>\n",
       "      <td>1.582858</td>\n",
       "      <td>0.061849</td>\n",
       "    </tr>\n",
       "    <tr>\n",
       "      <td>min</td>\n",
       "      <td>0.375942</td>\n",
       "      <td>0.012021</td>\n",
       "    </tr>\n",
       "    <tr>\n",
       "      <td>25%</td>\n",
       "      <td>1.982735</td>\n",
       "      <td>0.046091</td>\n",
       "    </tr>\n",
       "    <tr>\n",
       "      <td>50%</td>\n",
       "      <td>2.318767</td>\n",
       "      <td>0.059810</td>\n",
       "    </tr>\n",
       "    <tr>\n",
       "      <td>75%</td>\n",
       "      <td>2.932266</td>\n",
       "      <td>0.080548</td>\n",
       "    </tr>\n",
       "    <tr>\n",
       "      <td>max</td>\n",
       "      <td>34.216232</td>\n",
       "      <td>2.062424</td>\n",
       "    </tr>\n",
       "  </tbody>\n",
       "</table>\n",
       "</div>"
      ],
      "text/plain": [
       "         numax_err      dnu_err\n",
       "count  6179.000000  6179.000000\n",
       "mean      2.672120     0.072363\n",
       "std       1.582858     0.061849\n",
       "min       0.375942     0.012021\n",
       "25%       1.982735     0.046091\n",
       "50%       2.318767     0.059810\n",
       "75%       2.932266     0.080548\n",
       "max      34.216232     2.062424"
      ]
     },
     "execution_count": 207,
     "metadata": {},
     "output_type": "execute_result"
    }
   ],
   "source": [
    "df_input[['numax_err', 'dnu_err']].describe()"
   ]
  },
  {
   "cell_type": "markdown",
   "metadata": {},
   "source": [
    "Much better!"
   ]
  },
  {
   "cell_type": "code",
   "execution_count": 210,
   "metadata": {},
   "outputs": [
    {
     "data": {
      "text/html": [
       "<div>\n",
       "<style scoped>\n",
       "    .dataframe tbody tr th:only-of-type {\n",
       "        vertical-align: middle;\n",
       "    }\n",
       "\n",
       "    .dataframe tbody tr th {\n",
       "        vertical-align: top;\n",
       "    }\n",
       "\n",
       "    .dataframe thead th {\n",
       "        text-align: right;\n",
       "    }\n",
       "</style>\n",
       "<table border=\"1\" class=\"dataframe\">\n",
       "  <thead>\n",
       "    <tr style=\"text-align: right;\">\n",
       "      <th></th>\n",
       "      <th>ID</th>\n",
       "      <th>numax</th>\n",
       "      <th>numax_err</th>\n",
       "      <th>dnu</th>\n",
       "      <th>dnu_err</th>\n",
       "      <th>teff</th>\n",
       "      <th>teff_err</th>\n",
       "      <th>bp_rp</th>\n",
       "      <th>bp_rp_err</th>\n",
       "      <th>cadence</th>\n",
       "    </tr>\n",
       "  </thead>\n",
       "  <tbody>\n",
       "    <tr>\n",
       "      <td>0</td>\n",
       "      <td>KIC1027337</td>\n",
       "      <td>75.072067</td>\n",
       "      <td>2.586361</td>\n",
       "      <td>6.981310</td>\n",
       "      <td>0.044373</td>\n",
       "      <td>4671.0</td>\n",
       "      <td>80.0</td>\n",
       "      <td>1.349916</td>\n",
       "      <td>0.241</td>\n",
       "      <td>long</td>\n",
       "    </tr>\n",
       "    <tr>\n",
       "      <td>1</td>\n",
       "      <td>KIC1160789</td>\n",
       "      <td>25.318476</td>\n",
       "      <td>1.887754</td>\n",
       "      <td>3.508686</td>\n",
       "      <td>0.056671</td>\n",
       "      <td>4724.0</td>\n",
       "      <td>80.0</td>\n",
       "      <td>1.215082</td>\n",
       "      <td>0.023</td>\n",
       "      <td>long</td>\n",
       "    </tr>\n",
       "    <tr>\n",
       "      <td>2</td>\n",
       "      <td>KIC1161447</td>\n",
       "      <td>36.816770</td>\n",
       "      <td>2.200162</td>\n",
       "      <td>4.237181</td>\n",
       "      <td>0.114251</td>\n",
       "      <td>4793.0</td>\n",
       "      <td>80.0</td>\n",
       "      <td>1.375460</td>\n",
       "      <td>0.100</td>\n",
       "      <td>long</td>\n",
       "    </tr>\n",
       "    <tr>\n",
       "      <td>3</td>\n",
       "      <td>KIC1161618</td>\n",
       "      <td>33.909153</td>\n",
       "      <td>2.188590</td>\n",
       "      <td>4.041346</td>\n",
       "      <td>0.089863</td>\n",
       "      <td>4747.0</td>\n",
       "      <td>80.0</td>\n",
       "      <td>1.273821</td>\n",
       "      <td>0.050</td>\n",
       "      <td>long</td>\n",
       "    </tr>\n",
       "    <tr>\n",
       "      <td>4</td>\n",
       "      <td>KIC1162220</td>\n",
       "      <td>11.042437</td>\n",
       "      <td>0.997900</td>\n",
       "      <td>1.659925</td>\n",
       "      <td>0.032354</td>\n",
       "      <td>4218.0</td>\n",
       "      <td>80.0</td>\n",
       "      <td>1.619142</td>\n",
       "      <td>0.228</td>\n",
       "      <td>long</td>\n",
       "    </tr>\n",
       "  </tbody>\n",
       "</table>\n",
       "</div>"
      ],
      "text/plain": [
       "           ID      numax  numax_err       dnu   dnu_err    teff  teff_err  \\\n",
       "0  KIC1027337  75.072067   2.586361  6.981310  0.044373  4671.0      80.0   \n",
       "1  KIC1160789  25.318476   1.887754  3.508686  0.056671  4724.0      80.0   \n",
       "2  KIC1161447  36.816770   2.200162  4.237181  0.114251  4793.0      80.0   \n",
       "3  KIC1161618  33.909153   2.188590  4.041346  0.089863  4747.0      80.0   \n",
       "4  KIC1162220  11.042437   0.997900  1.659925  0.032354  4218.0      80.0   \n",
       "\n",
       "      bp_rp  bp_rp_err cadence  \n",
       "0  1.349916      0.241    long  \n",
       "1  1.215082      0.023    long  \n",
       "2  1.375460      0.100    long  \n",
       "3  1.273821      0.050    long  \n",
       "4  1.619142      0.228    long  "
      ]
     },
     "execution_count": 210,
     "metadata": {},
     "output_type": "execute_result"
    }
   ],
   "source": [
    "df_input['cadence'] = 'long'\n",
    "df_input.loc[df_input['numax'] > 300.0, 'cadence'] = 'short'\n",
    "df_input.head()"
   ]
  },
  {
   "cell_type": "code",
   "execution_count": 203,
   "metadata": {},
   "outputs": [],
   "source": [
    "df_input.to_csv(os.path.join(OUTPUT_DIR, OUTPUT_PREFIX+'yu_pbjam_input.csv'), index=False)"
   ]
  },
  {
   "cell_type": "code",
   "execution_count": null,
   "metadata": {},
   "outputs": [],
   "source": []
  }
 ],
 "metadata": {
  "kernelspec": {
   "display_name": "Python 3 (Base)",
   "language": "python",
   "name": "base"
  },
  "language_info": {
   "codemirror_mode": {
    "name": "ipython",
    "version": 3
   },
   "file_extension": ".py",
   "mimetype": "text/x-python",
   "name": "python",
   "nbconvert_exporter": "python",
   "pygments_lexer": "ipython3",
   "version": "3.7.4"
  }
 },
 "nbformat": 4,
 "nbformat_minor": 2
}
